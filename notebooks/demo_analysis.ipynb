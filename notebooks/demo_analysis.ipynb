{
 "cells": [
  {
   "cell_type": "markdown",
   "metadata": {},
   "source": [
    "# 🚀 Quick Demo: News Article Frame Analysis\n",
    "\n",
    "This notebook provides a quick demonstration of the frame detection system.\n",
    "\n",
    "[![Open In Colab](https://colab.research.google.com/assets/colab-badge.svg)](https://colab.research.google.com/github/yourusername/spam_news/blob/main/notebooks/demo_analysis.ipynb)\n",
    "\n",
    "## What this does:\n",
    "1. Loads sample news articles\n",
    "2. Uses pre-trained models to detect frames\n",
    "3. Identifies demographic groups mentioned\n",
    "4. Counts frame instances (exemplars)\n",
    "5. Compares with human coding"
   ]
  },
  {
   "cell_type": "markdown",
   "metadata": {},
   "source": [
    "## Setup (Run this first!)"
   ]
  },
  {
   "cell_type": "code",
   "execution_count": null,
   "metadata": {},
   "outputs": [],
   "source": [
    "# One-click setup for Google Colab\n",
    "!git clone https://github.com/yourusername/spam_news.git 2>/dev/null || true\n",
    "%cd spam_news\n",
    "!pip install -q -r requirements.txt\n",
    "print(\"✅ Setup complete!\")"
   ]
  },
  {
   "cell_type": "markdown",
   "metadata": {},
   "source": [
    "## Load Sample Data"
   ]
  },
  {
   "cell_type": "code",
   "execution_count": null,
   "metadata": {},
   "outputs": [],
   "source": [
    "import json\n",
    "import pandas as pd\n",
    "from pathlib import Path\n",
    "\n",
    "# Load sample articles\n",
    "with open('data/sample_articles.json', 'r') as f:\n",
    "    articles = json.load(f)\n",
    "\n",
    "print(f\"Loaded {len(articles)} sample articles\")\n",
    "\n",
    "# Show one example\n",
    "print(\"\\nExample article:\")\n",
    "print(f\"Title: {articles[0]['title']}\")\n",
    "print(f\"Source: {articles[0]['source']}\")\n",
    "print(f\"Content preview: {articles[0]['content'][:200]}...\")"
   ]
  },
  {
   "cell_type": "markdown",
   "metadata": {},
   "source": [
    "## Zero-Shot Frame Detection"
   ]
  },
  {
   "cell_type": "code",
   "execution_count": null,
   "metadata": {},
   "outputs": [],
   "source": [
    "from transformers import pipeline\n",
    "\n",
    "# Load zero-shot classifier\n",
    "print(\"Loading model...\")\n",
    "classifier = pipeline(\n",
    "    \"zero-shot-classification\",\n",
    "    model=\"facebook/bart-large-mnli\",\n",
    "    device=0 if torch.cuda.is_available() else -1\n",
    ")\n",
    "\n",
    "# Define our frame labels\n",
    "frame_labels = [\n",
    "    \"underrepresentation in leadership\",\n",
    "    \"overrepresentation in leadership\",\n",
    "    \"obstacles to leadership\",\n",
    "    \"successes in leadership\"\n",
    "]\n",
    "\n",
    "print(\"✅ Model loaded!\")"
   ]
  },
  {
   "cell_type": "code",
   "execution_count": null,
   "metadata": {},
   "outputs": [],
   "source": [
    "# Analyze first article\n",
    "article = articles[0]\n",
    "result = classifier(\n",
    "    article['content'],\n",
    "    candidate_labels=frame_labels,\n",
    "    multi_label=True\n",
    ")\n",
    "\n",
    "# Show results\n",
    "print(f\"Article: {article['title']}\\n\")\n",
    "print(\"Detected frames (confidence scores):\")\n",
    "for label, score in zip(result['labels'], result['scores']):\n",
    "    if score > 0.5:  # Show only high-confidence predictions\n",
    "        print(f\"  ✓ {label}: {score:.2f}\")"
   ]
  },
  {
   "cell_type": "markdown",
   "metadata": {},
   "source": [
    "## Demographic Detection"
   ]
  },
  {
   "cell_type": "code",
   "execution_count": null,
   "metadata": {},
   "outputs": [],
   "source": [
    "# Simple demographic detection\n",
    "import re\n",
    "\n",
    "demographic_patterns = {\n",
    "    'women': r'\\b(women|woman|female|females)\\b',\n",
    "    'men': r'\\b(men|man|male|males)\\b',\n",
    "    'white': r'\\b(white|caucasian)\\b',\n",
    "    'black': r'\\b(black|african american)\\b',\n",
    "    'poc': r'\\b(people of color|hispanic|latino|latina|asian)\\b'\n",
    "}\n",
    "\n",
    "def detect_demographics(text):\n",
    "    text_lower = text.lower()\n",
    "    found = []\n",
    "    \n",
    "    for demo, pattern in demographic_patterns.items():\n",
    "        if re.search(pattern, text_lower):\n",
    "            found.append(demo)\n",
    "    \n",
    "    # Identify intersections\n",
    "    if 'women' in found and ('black' in found or 'poc' in found):\n",
    "        found.append('women_of_color')\n",
    "    if 'men' in found and 'white' in found:\n",
    "        found.append('white_men')\n",
    "        \n",
    "    return found\n",
    "\n",
    "# Test on article\n",
    "demographics = detect_demographics(article['content'])\n",
    "print(f\"Demographics mentioned: {demographics}\")"
   ]
  },
  {
   "cell_type": "markdown",
   "metadata": {},
   "source": [
    "## Analyze All Sample Articles"
   ]
  },
  {
   "cell_type": "code",
   "execution_count": null,
   "metadata": {},
   "outputs": [],
   "source": [
    "# Process all articles\n",
    "results = []\n",
    "\n",
    "for article in articles:\n",
    "    # Detect frames\n",
    "    frame_result = classifier(\n",
    "        article['content'],\n",
    "        candidate_labels=frame_labels,\n",
    "        multi_label=True\n",
    "    )\n",
    "    \n",
    "    # Get high-confidence frames\n",
    "    detected_frames = [\n",
    "        (label.split()[0], score) \n",
    "        for label, score in zip(frame_result['labels'], frame_result['scores'])\n",
    "        if score > 0.5\n",
    "    ]\n",
    "    \n",
    "    # Detect demographics\n",
    "    demographics = detect_demographics(article['content'])\n",
    "    \n",
    "    results.append({\n",
    "        'article_id': article['article_id'],\n",
    "        'title': article['title'],\n",
    "        'detected_frames': detected_frames,\n",
    "        'demographics': demographics\n",
    "    })\n",
    "\n",
    "# Display results\n",
    "for r in results:\n",
    "    print(f\"\\n📄 {r['title']}\")\n",
    "    print(f\"   Frames: {[f[0] for f in r['detected_frames']]}\")\n",
    "    print(f\"   Demographics: {r['demographics']}\")"
   ]
  },
  {
   "cell_type": "markdown",
   "metadata": {},
   "source": [
    "## Compare with Human Coding"
   ]
  },
  {
   "cell_type": "code",
   "execution_count": null,
   "metadata": {},
   "outputs": [],
   "source": [
    "# Compare ML predictions with human coding\n",
    "comparison = []\n",
    "\n",
    "for article, result in zip(articles, results):\n",
    "    human_frames = list(article['human_coding'].keys())\n",
    "    ml_frames = [f[0] for f in result['detected_frames']]\n",
    "    \n",
    "    # Check matches\n",
    "    for frame in ['underrepresentation', 'overrepresentation', 'obstacles', 'successes']:\n",
    "        human_detected = frame in human_frames and len(article['human_coding'][frame]) > 0\n",
    "        ml_detected = frame in ml_frames\n",
    "        \n",
    "        comparison.append({\n",
    "            'article_id': article['article_id'],\n",
    "            'frame': frame,\n",
    "            'human': human_detected,\n",
    "            'ml': ml_detected,\n",
    "            'match': human_detected == ml_detected\n",
    "        })\n",
    "\n",
    "# Calculate accuracy\n",
    "comp_df = pd.DataFrame(comparison)\n",
    "accuracy = comp_df['match'].mean()\n",
    "\n",
    "print(f\"\\n📊 Overall Accuracy: {accuracy:.2%}\")\n",
    "print(\"\\nPer-frame accuracy:\")\n",
    "for frame in ['underrepresentation', 'overrepresentation', 'obstacles', 'successes']:\n",
    "    frame_acc = comp_df[comp_df['frame'] == frame]['match'].mean()\n",
    "    print(f\"  {frame}: {frame_acc:.2%}\")"
   ]
  },
  {
   "cell_type": "markdown",
   "metadata": {},
   "source": [
    "## Summary\n",
    "\n",
    "This demo shows:\n",
    "- ✅ Zero-shot frame detection works reasonably well\n",
    "- ✅ We can identify demographic groups mentioned\n",
    "- ✅ The approach captures many of the human-coded frames\n",
    "\n",
    "Next steps:\n",
    "- Fine-tune models on the full 462 articles\n",
    "- Improve demographic entity recognition\n",
    "- Add exemplar counting logic\n",
    "- Achieve higher agreement with human coders"
   ]
  }
 ],
 "metadata": {
  "kernelspec": {
   "display_name": "Python 3",
   "language": "python",
   "name": "python3"
  },
  "language_info": {
   "codemirror_mode": {
    "name": "ipython",
    "version": 3
   },
   "file_extension": ".py",
   "mimetype": "text/x-python",
   "name": "python",
   "nbconvert_exporter": "python",
   "pygments_lexer": "ipython3",
   "version": "3.8.0"
  }
 },
 "nbformat": 4,
 "nbformat_minor": 4
}